{
    "cells": [
        {
            "cell_type": "markdown",
            "metadata": {},
            "source": [
                "# Wikipedia data extraction: Spotify streaming records\n",
                "\n",
                "Use requests and beautiful soup to download and parse spotify streaming records from Wikipedia."
            ]
        },
        {
            "cell_type": "markdown",
            "metadata": {},
            "source": [
                "## 1. Notebook set-up"
            ]
        },
        {
            "cell_type": "code",
            "execution_count": 1,
            "metadata": {},
            "outputs": [],
            "source": [
                "# External libraries \n",
                "import requests\n",
                "import pandas as pd\n",
                "import matplotlib.pyplot as plt\n",
                "from bs4 import BeautifulSoup"
            ]
        },
        {
            "cell_type": "code",
            "execution_count": 2,
            "metadata": {},
            "outputs": [],
            "source": [
                "# Target URL\n",
                "url='https://en.wikipedia.org/wiki/List_of_Spotify_streaming_records'\n",
                "\n",
                "# Web browser-like request headers\n",
                "headers = {\n",
                "    'User-Agent': 'Mozilla/5.0 (Windows NT 10.0; Win64; x64) AppleWebKit/537.36' +\n",
                "        '(KHTML, like Gecko) Chrome/91.0.4472.124 Safari/537.36',\n",
                "    'Accept': 'text/html,application/xhtml+xml,application/xml;q=0.9,image/webp,*/*;q=0.8',\n",
                "    'Accept-Language': 'en-US,en;q=0.5',\n",
                "    'Accept-Encoding': 'gzip, deflate',\n",
                "    'Connection': 'keep-alive',\n",
                "    'Upgrade-Insecure-Requests': '1',\n",
                "}"
            ]
        },
        {
            "cell_type": "markdown",
            "metadata": {},
            "source": [
                "## 2. Download the data"
            ]
        },
        {
            "cell_type": "code",
            "execution_count": 3,
            "metadata": {},
            "outputs": [],
            "source": [
                "# Catch any errors with try-except block\n",
                "try:\n",
                "    # Fetch the book page\n",
                "    response = requests.get(url, headers=headers, timeout=15)\n",
                "    response.raise_for_status()\n",
                "\n",
                "    # Parse the HTML content\n",
                "    soup = BeautifulSoup(response.content, 'html.parser')\n",
                "\n",
                "except requests.exceptions.RequestException as e:\n",
                "    print(f'Caught exception from requests: {e}')\n",
                "    soup = None"
            ]
        },
        {
            "cell_type": "markdown",
            "metadata": {},
            "source": [
                "## 3. Parse the data\n",
                "\n",
                "### 3.1. Get the table rows"
            ]
        },
        {
            "cell_type": "code",
            "execution_count": 4,
            "metadata": {},
            "outputs": [],
            "source": [
                "tables = soup.find_all('table')\n",
                "most_streamed_table = tables[0]\n",
                "column_names = most_streamed_table.find_all('tr')[0]"
            ]
        },
        {
            "cell_type": "markdown",
            "metadata": {},
            "source": [
                "### 3.2. Get the column names"
            ]
        },
        {
            "cell_type": "code",
            "execution_count": 5,
            "metadata": {},
            "outputs": [
                {
                    "name": "stdout",
                    "output_type": "stream",
                    "text": [
                        "Column names: ['Rank', 'Song', 'Artist(s)', 'Streams(billions)', 'Release date', 'Ref.']\n"
                    ]
                }
            ],
            "source": [
                "# Get just the header row from the table\n",
                "table_header = most_streamed_table.find_all('tr')[0]\n",
                "\n",
                "# Loop on the th tags to collect the column names\n",
                "column_names = []\n",
                "\n",
                "for column in table_header.find_all('th'):\n",
                "    column_names.append(column.get_text().strip())\n",
                "\n",
                "print(f'Column names: {column_names}')"
            ]
        },
        {
            "cell_type": "markdown",
            "metadata": {},
            "source": [
                "\n",
                "### 3.3. Get the data from the table body"
            ]
        },
        {
            "cell_type": "code",
            "execution_count": 6,
            "metadata": {},
            "outputs": [],
            "source": [
                "# List\n",
                "results = []\n",
                "\n",
                "# Get the rows of data from the table body\n",
                "data_rows = most_streamed_table.find_all('tr')[1:]\n",
                "\n",
                "# Loop on rows and extract the value from each column\n",
                "for data_row in data_rows:\n",
                "\n",
                "    # Empty list to hold the values for this row\n",
                "    values = []\n",
                "\n",
                "    # Loop on the tags in this row\n",
                "    for tag in data_row:\n",
                "\n",
                "        # Song titles are nested inside of a <th> and an <a> tag.\n",
                "        if tag.name == 'th':\n",
                "            \n",
                "            link = None\n",
                "            link = tag.find('a')\n",
                "\n",
                "            if link:\n",
                "                title = link.get_text().strip()\n",
                "            else:\n",
                "                title = None\n",
                "            \n",
                "            values.append(title)\n",
                "\n",
                "        # Everything else is directly inside of the top-level <td>\n",
                "        elif tag.name == 'td':\n",
                "\n",
                "            values.append(tag.get_text().strip())\n",
                "    \n",
                "    results.append(values)"
            ]
        },
        {
            "cell_type": "markdown",
            "metadata": {},
            "source": [
                "### 3.4. Convert to Pandas DataFrame"
            ]
        },
        {
            "cell_type": "code",
            "execution_count": 7,
            "metadata": {},
            "outputs": [
                {
                    "data": {
                        "text/html": [
                            "<div>\n",
                            "<style scoped>\n",
                            "    .dataframe tbody tr th:only-of-type {\n",
                            "        vertical-align: middle;\n",
                            "    }\n",
                            "\n",
                            "    .dataframe tbody tr th {\n",
                            "        vertical-align: top;\n",
                            "    }\n",
                            "\n",
                            "    .dataframe thead th {\n",
                            "        text-align: right;\n",
                            "    }\n",
                            "</style>\n",
                            "<table border=\"1\" class=\"dataframe\">\n",
                            "  <thead>\n",
                            "    <tr style=\"text-align: right;\">\n",
                            "      <th></th>\n",
                            "      <th>Rank</th>\n",
                            "      <th>Song</th>\n",
                            "      <th>Artist(s)</th>\n",
                            "      <th>Streams(billions)</th>\n",
                            "      <th>Release date</th>\n",
                            "      <th>Ref.</th>\n",
                            "    </tr>\n",
                            "  </thead>\n",
                            "  <tbody>\n",
                            "    <tr>\n",
                            "      <th>0</th>\n",
                            "      <td>1</td>\n",
                            "      <td>Blinding Lights</td>\n",
                            "      <td>The Weeknd</td>\n",
                            "      <td>4.914</td>\n",
                            "      <td>29 November 2019</td>\n",
                            "      <td>[2]</td>\n",
                            "    </tr>\n",
                            "    <tr>\n",
                            "      <th>1</th>\n",
                            "      <td>2</td>\n",
                            "      <td>Shape of You</td>\n",
                            "      <td>Ed Sheeran</td>\n",
                            "      <td>4.441</td>\n",
                            "      <td>6 January 2017</td>\n",
                            "      <td>[3]</td>\n",
                            "    </tr>\n",
                            "    <tr>\n",
                            "      <th>2</th>\n",
                            "      <td>3</td>\n",
                            "      <td>Starboy</td>\n",
                            "      <td>The Weeknd and Daft Punk</td>\n",
                            "      <td>3.975</td>\n",
                            "      <td>21 September 2016</td>\n",
                            "      <td>[4]</td>\n",
                            "    </tr>\n",
                            "    <tr>\n",
                            "      <th>3</th>\n",
                            "      <td>4</td>\n",
                            "      <td>Someone You Loved</td>\n",
                            "      <td>Lewis Capaldi</td>\n",
                            "      <td>3.962</td>\n",
                            "      <td>8 November 2018</td>\n",
                            "      <td>[5]</td>\n",
                            "    </tr>\n",
                            "    <tr>\n",
                            "      <th>4</th>\n",
                            "      <td>5</td>\n",
                            "      <td>As It Was</td>\n",
                            "      <td>Harry Styles</td>\n",
                            "      <td>3.953</td>\n",
                            "      <td>1 April 2022</td>\n",
                            "      <td>[6]</td>\n",
                            "    </tr>\n",
                            "  </tbody>\n",
                            "</table>\n",
                            "</div>"
                        ],
                        "text/plain": [
                            "  Rank               Song                 Artist(s) Streams(billions)  \\\n",
                            "0    1    Blinding Lights                The Weeknd             4.914   \n",
                            "1    2       Shape of You                Ed Sheeran             4.441   \n",
                            "2    3            Starboy  The Weeknd and Daft Punk             3.975   \n",
                            "3    4  Someone You Loved             Lewis Capaldi             3.962   \n",
                            "4    5          As It Was              Harry Styles             3.953   \n",
                            "\n",
                            "        Release date Ref.  \n",
                            "0   29 November 2019  [2]  \n",
                            "1     6 January 2017  [3]  \n",
                            "2  21 September 2016  [4]  \n",
                            "3    8 November 2018  [5]  \n",
                            "4       1 April 2022  [6]  "
                        ]
                    },
                    "execution_count": 7,
                    "metadata": {},
                    "output_type": "execute_result"
                }
            ],
            "source": [
                "results_df = pd.DataFrame(results, columns=column_names)\n",
                "results_df.head()"
            ]
        }
    ],
    "metadata": {
        "kernelspec": {
            "display_name": "Python 3",
            "language": "python",
            "name": "python3"
        },
        "language_info": {
            "codemirror_mode": {
                "name": "ipython",
                "version": 3
            },
            "file_extension": ".py",
            "mimetype": "text/x-python",
            "name": "python",
            "nbconvert_exporter": "python",
            "pygments_lexer": "ipython3",
            "version": "3.11.4"
        },
        "orig_nbformat": 4
    },
    "nbformat": 4,
    "nbformat_minor": 2
}
