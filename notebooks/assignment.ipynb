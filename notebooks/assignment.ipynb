{
    "cells": [
        {
            "cell_type": "markdown",
            "metadata": {},
            "source": [
                "# Wikipedia data extraction: Spotify streaming records\n",
                "\n",
                "Use requests and beautiful soup to download and parse spotify streaming records from Wikipedia."
            ]
        },
        {
            "cell_type": "markdown",
            "metadata": {},
            "source": [
                "## 1. Notebook set-up"
            ]
        },
        {
            "cell_type": "code",
            "execution_count": 1,
            "metadata": {},
            "outputs": [],
            "source": [
                "# Standard libraries\n",
                "import sqlite3\n",
                "from pathlib import Path\n",
                "\n",
                "# External libraries \n",
                "import requests\n",
                "import pandas as pd\n",
                "import matplotlib.pyplot as plt\n",
                "from bs4 import BeautifulSoup\n",
                "\n",
                "from helper_functions import extract_table_data"
            ]
        },
        {
            "cell_type": "code",
            "execution_count": 2,
            "metadata": {},
            "outputs": [],
            "source": [
                "# Target URL\n",
                "url = 'https://en.wikipedia.org/wiki/List_of_Spotify_streaming_records'\n",
                "\n",
                "# Web browser-like request headers\n",
                "headers = {\n",
                "    'User-Agent': 'Mozilla/5.0 (Windows NT 10.0; Win64; x64) AppleWebKit/537.36' +\n",
                "        '(KHTML, like Gecko) Chrome/91.0.4472.124 Safari/537.36',\n",
                "    'Accept': 'text/html,application/xhtml+xml,application/xml;q=0.9,image/webp,*/*;q=0.8',\n",
                "    'Accept-Language': 'en-US,en;q=0.5',\n",
                "    'Accept-Encoding': 'gzip, deflate',\n",
                "    'Connection': 'keep-alive',\n",
                "    'Upgrade-Insecure-Requests': '1',\n",
                "}"
            ]
        },
        {
            "cell_type": "markdown",
            "metadata": {},
            "source": [
                "## 2. Download HTML"
            ]
        },
        {
            "cell_type": "code",
            "execution_count": null,
            "metadata": {},
            "outputs": [],
            "source": [
                "# Use requests to download the webpage from the target url\n"
            ]
        },
        {
            "cell_type": "markdown",
            "metadata": {},
            "source": [
                "## 3. Transform the HTML\n",
                "\n",
                "### 3.1. Get the table rows"
            ]
        },
        {
            "cell_type": "code",
            "execution_count": null,
            "metadata": {},
            "outputs": [],
            "source": [
                "# Use beautifulsoup to extract the table rows from the html\n"
            ]
        },
        {
            "cell_type": "markdown",
            "metadata": {},
            "source": [
                "### 3.2. Get the column names"
            ]
        },
        {
            "cell_type": "code",
            "execution_count": null,
            "metadata": {},
            "outputs": [
                {
                    "name": "stdout",
                    "output_type": "stream",
                    "text": [
                        "Column names: ['Rank', 'Song', 'Artist(s)', 'Streams(billions)', 'Release date', 'Ref.']\n"
                    ]
                }
            ],
            "source": [
                "# Use beautifulsoup to extract the column headers from the html\n"
            ]
        },
        {
            "cell_type": "markdown",
            "metadata": {},
            "source": [
                "\n",
                "### 3.3. Get the data from the table body"
            ]
        },
        {
            "cell_type": "code",
            "execution_count": null,
            "metadata": {},
            "outputs": [],
            "source": [
                "# Use beautifulsoup to extract the table body\n"
            ]
        },
        {
            "cell_type": "markdown",
            "metadata": {},
            "source": [
                "### 3.4. Convert to Pandas DataFrame"
            ]
        },
        {
            "cell_type": "code",
            "execution_count": null,
            "metadata": {},
            "outputs": [
                {
                    "data": {
                        "text/html": [
                            "<div>\n",
                            "<style scoped>\n",
                            "    .dataframe tbody tr th:only-of-type {\n",
                            "        vertical-align: middle;\n",
                            "    }\n",
                            "\n",
                            "    .dataframe tbody tr th {\n",
                            "        vertical-align: top;\n",
                            "    }\n",
                            "\n",
                            "    .dataframe thead th {\n",
                            "        text-align: right;\n",
                            "    }\n",
                            "</style>\n",
                            "<table border=\"1\" class=\"dataframe\">\n",
                            "  <thead>\n",
                            "    <tr style=\"text-align: right;\">\n",
                            "      <th></th>\n",
                            "      <th>Rank</th>\n",
                            "      <th>Song</th>\n",
                            "      <th>Artist(s)</th>\n",
                            "      <th>Streams(billions)</th>\n",
                            "      <th>Release date</th>\n",
                            "      <th>Ref.</th>\n",
                            "    </tr>\n",
                            "  </thead>\n",
                            "  <tbody>\n",
                            "    <tr>\n",
                            "      <th>0</th>\n",
                            "      <td>1</td>\n",
                            "      <td>Blinding Lights</td>\n",
                            "      <td>The Weeknd</td>\n",
                            "      <td>4.961</td>\n",
                            "      <td>29 November 2019</td>\n",
                            "      <td>[2]</td>\n",
                            "    </tr>\n",
                            "    <tr>\n",
                            "      <th>1</th>\n",
                            "      <td>2</td>\n",
                            "      <td>Shape of You</td>\n",
                            "      <td>Ed Sheeran</td>\n",
                            "      <td>4.490</td>\n",
                            "      <td>6 January 2017</td>\n",
                            "      <td>[3]</td>\n",
                            "    </tr>\n",
                            "    <tr>\n",
                            "      <th>2</th>\n",
                            "      <td>3</td>\n",
                            "      <td>Starboy</td>\n",
                            "      <td>The Weeknd and Daft Punk</td>\n",
                            "      <td>4.024</td>\n",
                            "      <td>21 September 2016</td>\n",
                            "      <td>[4]</td>\n",
                            "    </tr>\n",
                            "    <tr>\n",
                            "      <th>3</th>\n",
                            "      <td>4</td>\n",
                            "      <td>Someone You Loved</td>\n",
                            "      <td>Lewis Capaldi</td>\n",
                            "      <td>4.002</td>\n",
                            "      <td>8 November 2018</td>\n",
                            "      <td>[5]</td>\n",
                            "    </tr>\n",
                            "    <tr>\n",
                            "      <th>4</th>\n",
                            "      <td>5</td>\n",
                            "      <td>As It Was</td>\n",
                            "      <td>Harry Styles</td>\n",
                            "      <td>3.992</td>\n",
                            "      <td>1 April 2022</td>\n",
                            "      <td>[6]</td>\n",
                            "    </tr>\n",
                            "  </tbody>\n",
                            "</table>\n",
                            "</div>"
                        ],
                        "text/plain": [
                            "  Rank               Song                 Artist(s) Streams(billions)  \\\n",
                            "0    1    Blinding Lights                The Weeknd             4.961   \n",
                            "1    2       Shape of You                Ed Sheeran             4.490   \n",
                            "2    3            Starboy  The Weeknd and Daft Punk             4.024   \n",
                            "3    4  Someone You Loved             Lewis Capaldi             4.002   \n",
                            "4    5          As It Was              Harry Styles             3.992   \n",
                            "\n",
                            "        Release date Ref.  \n",
                            "0   29 November 2019  [2]  \n",
                            "1     6 January 2017  [3]  \n",
                            "2  21 September 2016  [4]  \n",
                            "3    8 November 2018  [5]  \n",
                            "4       1 April 2022  [6]  "
                        ]
                    },
                    "execution_count": 7,
                    "metadata": {},
                    "output_type": "execute_result"
                }
            ],
            "source": [
                "# Create a Pandas dataframe from the table body and column names\n"
            ]
        },
        {
            "cell_type": "markdown",
            "metadata": {},
            "source": [
                "## 4. Process the DataFrame\n",
                "\n",
                "### 4.1. Remove unnecessary columns"
            ]
        },
        {
            "cell_type": "code",
            "execution_count": null,
            "metadata": {},
            "outputs": [
                {
                    "data": {
                        "text/html": [
                            "<div>\n",
                            "<style scoped>\n",
                            "    .dataframe tbody tr th:only-of-type {\n",
                            "        vertical-align: middle;\n",
                            "    }\n",
                            "\n",
                            "    .dataframe tbody tr th {\n",
                            "        vertical-align: top;\n",
                            "    }\n",
                            "\n",
                            "    .dataframe thead th {\n",
                            "        text-align: right;\n",
                            "    }\n",
                            "</style>\n",
                            "<table border=\"1\" class=\"dataframe\">\n",
                            "  <thead>\n",
                            "    <tr style=\"text-align: right;\">\n",
                            "      <th></th>\n",
                            "      <th>Rank</th>\n",
                            "      <th>Song</th>\n",
                            "      <th>Artist(s)</th>\n",
                            "      <th>Streams(billions)</th>\n",
                            "      <th>Release date</th>\n",
                            "    </tr>\n",
                            "  </thead>\n",
                            "  <tbody>\n",
                            "    <tr>\n",
                            "      <th>0</th>\n",
                            "      <td>1</td>\n",
                            "      <td>Blinding Lights</td>\n",
                            "      <td>The Weeknd</td>\n",
                            "      <td>4.961</td>\n",
                            "      <td>29 November 2019</td>\n",
                            "    </tr>\n",
                            "    <tr>\n",
                            "      <th>1</th>\n",
                            "      <td>2</td>\n",
                            "      <td>Shape of You</td>\n",
                            "      <td>Ed Sheeran</td>\n",
                            "      <td>4.490</td>\n",
                            "      <td>6 January 2017</td>\n",
                            "    </tr>\n",
                            "    <tr>\n",
                            "      <th>2</th>\n",
                            "      <td>3</td>\n",
                            "      <td>Starboy</td>\n",
                            "      <td>The Weeknd and Daft Punk</td>\n",
                            "      <td>4.024</td>\n",
                            "      <td>21 September 2016</td>\n",
                            "    </tr>\n",
                            "    <tr>\n",
                            "      <th>3</th>\n",
                            "      <td>4</td>\n",
                            "      <td>Someone You Loved</td>\n",
                            "      <td>Lewis Capaldi</td>\n",
                            "      <td>4.002</td>\n",
                            "      <td>8 November 2018</td>\n",
                            "    </tr>\n",
                            "    <tr>\n",
                            "      <th>4</th>\n",
                            "      <td>5</td>\n",
                            "      <td>As It Was</td>\n",
                            "      <td>Harry Styles</td>\n",
                            "      <td>3.992</td>\n",
                            "      <td>1 April 2022</td>\n",
                            "    </tr>\n",
                            "  </tbody>\n",
                            "</table>\n",
                            "</div>"
                        ],
                        "text/plain": [
                            "  Rank               Song                 Artist(s) Streams(billions)  \\\n",
                            "0    1    Blinding Lights                The Weeknd             4.961   \n",
                            "1    2       Shape of You                Ed Sheeran             4.490   \n",
                            "2    3            Starboy  The Weeknd and Daft Punk             4.024   \n",
                            "3    4  Someone You Loved             Lewis Capaldi             4.002   \n",
                            "4    5          As It Was              Harry Styles             3.992   \n",
                            "\n",
                            "        Release date  \n",
                            "0   29 November 2019  \n",
                            "1     6 January 2017  \n",
                            "2  21 September 2016  \n",
                            "3    8 November 2018  \n",
                            "4       1 April 2022  "
                        ]
                    },
                    "execution_count": 8,
                    "metadata": {},
                    "output_type": "execute_result"
                }
            ],
            "source": [
                "# Drop the Ref. columns - we could parse the references at the end of the page \n",
                "# and fill in the source, but that information is not needed to complete the \n",
                "# assignment\n"
            ]
        },
        {
            "cell_type": "markdown",
            "metadata": {},
            "source": [
                "### 4.2. Set column data types"
            ]
        },
        {
            "cell_type": "code",
            "execution_count": null,
            "metadata": {},
            "outputs": [
                {
                    "name": "stdout",
                    "output_type": "stream",
                    "text": [
                        "<class 'pandas.core.frame.DataFrame'>\n",
                        "RangeIndex: 101 entries, 0 to 100\n",
                        "Data columns (total 5 columns):\n",
                        " #   Column             Non-Null Count  Dtype         \n",
                        "---  ------             --------------  -----         \n",
                        " 0   Rank               100 non-null    float64       \n",
                        " 1   Song               100 non-null    string        \n",
                        " 2   Artist(s)          100 non-null    string        \n",
                        " 3   Streams(billions)  100 non-null    float64       \n",
                        " 4   Release date       100 non-null    datetime64[ns]\n",
                        "dtypes: datetime64[ns](1), float64(2), string(2)\n",
                        "memory usage: 4.1 KB\n"
                    ]
                }
            ],
            "source": [
                "# Set correct data types for number and string columns\n"
            ]
        },
        {
            "cell_type": "markdown",
            "metadata": {},
            "source": [
                "## 5. Store the data in SQLite"
            ]
        },
        {
            "cell_type": "code",
            "execution_count": 10,
            "metadata": {},
            "outputs": [],
            "source": [
                "# Create a data directory, if it doesn't exist\n",
                "Path('../data').mkdir(exist_ok=True, parents=True)\n",
                "\n",
                "# Create and connect to SQLite database\n",
                "conn = sqlite3.connect('../data/spotify.db')\n",
                "\n",
                "# Create a table and insert the top songs DataFrame\n",
                "results_df.to_sql('top_songs', conn, if_exists='replace', index=False)\n",
                "\n",
                "# Close the connection\n",
                "conn.close()"
            ]
        },
        {
            "cell_type": "markdown",
            "metadata": {},
            "source": [
                "## 6. Visualize the data\n",
                "\n",
                "### 6.1. Stream count distribution"
            ]
        },
        {
            "cell_type": "code",
            "execution_count": null,
            "metadata": {},
            "outputs": [
                {
                    "data": {
                        "image/png": "[encoded data removed]",
                        "text/plain": [
                            "<Figure size 640x480 with 1 Axes>"
                        ]
                    },
                    "metadata": {},
                    "output_type": "display_data"
                }
            ],
            "source": [
                "# Plot the distribution of stream counts with matplotlib's hist"
            ]
        },
        {
            "cell_type": "markdown",
            "metadata": {},
            "source": [
                "This histogram shows how the top 100 songs are distributed by their total number of streams (in billions). It helps visualize whether most songs have similar stream counts or if a few songs dominate the streaming numbers.\n",
                "\n",
                "**Observations:**\n",
                "- The distribution is right-skewed, with most songs clustered at lower stream counts.\n",
                "- Only a handful of songs have exceptionally high stream numbers, indicating a few outliers dominate the top of the chart.\n",
                "\n",
                "### 6.2. Other\n",
                "\n",
                "Come up with a few other data visualizations of your choice to explore and interpret the data."
            ]
        }
    ],
    "metadata": {
        "kernelspec": {
            "display_name": "Python 3",
            "language": "python",
            "name": "python3"
        },
        "language_info": {
            "codemirror_mode": {
                "name": "ipython",
                "version": 3
            },
            "file_extension": ".py",
            "mimetype": "text/x-python",
            "name": "python",
            "nbconvert_exporter": "python",
            "pygments_lexer": "ipython3",
            "version": "3.11.4"
        },
        "orig_nbformat": 4
    },
    "nbformat": 4,
    "nbformat_minor": 2
}
